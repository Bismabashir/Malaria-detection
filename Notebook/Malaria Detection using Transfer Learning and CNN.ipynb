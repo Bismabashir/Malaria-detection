{
 "cells": [
  {
   "cell_type": "markdown",
   "id": "3846842f",
   "metadata": {},
   "source": [
    "## MALARIA DISEASE DETECTION USING TRANSFER LEARNING AND CNN"
   ]
  },
  {
   "cell_type": "code",
   "execution_count": 1,
   "id": "3b9f67ef",
   "metadata": {},
   "outputs": [],
   "source": [
    "# import essential libraries\n",
    "\n",
    "from tensorflow.keras.layers import Input, Lambda, Dense, Flatten,Conv2D\n",
    "from tensorflow.keras.models import Model\n",
    "from tensorflow.keras.applications.vgg19 import VGG19\n",
    "from tensorflow.keras.applications.resnet50 import preprocess_input\n",
    "from tensorflow.keras.preprocessing import image\n",
    "from tensorflow.keras.preprocessing.image import ImageDataGenerator,load_img\n",
    "from tensorflow.keras.models import Sequential\n",
    "import numpy as np\n",
    "from glob import glob\n",
    "import matplotlib.pyplot as plt"
   ]
  },
  {
   "cell_type": "code",
   "execution_count": 2,
   "id": "1872abe1",
   "metadata": {},
   "outputs": [],
   "source": [
    "# re-size all the images to this\n",
    "IMAGE_SIZE = [224, 224]\n",
    "\n",
    "train_path = 'Train'\n",
    "valid_path = 'Test'"
   ]
  },
  {
   "cell_type": "code",
   "execution_count": 3,
   "id": "553a4782",
   "metadata": {},
   "outputs": [],
   "source": [
    "# Import the Vgg19 library as shown below and add preprocessing layer to the front of VGG\n",
    "# Here we will be using imagenet weights\n",
    "\n",
    "vgg19 = VGG19(input_shape=IMAGE_SIZE + [3], weights='imagenet', include_top=False)"
   ]
  },
  {
   "cell_type": "code",
   "execution_count": 4,
   "id": "2be2fe1c",
   "metadata": {},
   "outputs": [],
   "source": [
    "# don't train existing weights\n",
    "for layer in vgg19.layers:\n",
    "    layer.trainable = False"
   ]
  },
  {
   "cell_type": "code",
   "execution_count": 5,
   "id": "ae27d1f7",
   "metadata": {},
   "outputs": [
    {
     "data": {
      "text/plain": [
       "['Train\\\\Parasite', 'Train\\\\Uninfected']"
      ]
     },
     "execution_count": 5,
     "metadata": {},
     "output_type": "execute_result"
    }
   ],
   "source": [
    "# useful for getting number of output classes\n",
    "folders = glob('Train/*')\n",
    "folders"
   ]
  },
  {
   "cell_type": "code",
   "execution_count": 6,
   "id": "234e2cf6",
   "metadata": {},
   "outputs": [],
   "source": [
    "# our layers - you can add more if you want\n",
    "x = Flatten()(vgg19.output)"
   ]
  },
  {
   "cell_type": "code",
   "execution_count": 7,
   "id": "0e13fd9b",
   "metadata": {},
   "outputs": [],
   "source": [
    "prediction = Dense(len(folders), activation='softmax')(x)\n",
    "\n",
    "# create a model object\n",
    "model = Model(inputs=vgg19.input, outputs=prediction)"
   ]
  },
  {
   "cell_type": "code",
   "execution_count": 8,
   "id": "81ee0b87",
   "metadata": {},
   "outputs": [
    {
     "name": "stdout",
     "output_type": "stream",
     "text": [
      "Model: \"model\"\n",
      "_________________________________________________________________\n",
      " Layer (type)                Output Shape              Param #   \n",
      "=================================================================\n",
      " input_1 (InputLayer)        [(None, 224, 224, 3)]     0         \n",
      "                                                                 \n",
      " block1_conv1 (Conv2D)       (None, 224, 224, 64)      1792      \n",
      "                                                                 \n",
      " block1_conv2 (Conv2D)       (None, 224, 224, 64)      36928     \n",
      "                                                                 \n",
      " block1_pool (MaxPooling2D)  (None, 112, 112, 64)      0         \n",
      "                                                                 \n",
      " block2_conv1 (Conv2D)       (None, 112, 112, 128)     73856     \n",
      "                                                                 \n",
      " block2_conv2 (Conv2D)       (None, 112, 112, 128)     147584    \n",
      "                                                                 \n",
      " block2_pool (MaxPooling2D)  (None, 56, 56, 128)       0         \n",
      "                                                                 \n",
      " block3_conv1 (Conv2D)       (None, 56, 56, 256)       295168    \n",
      "                                                                 \n",
      " block3_conv2 (Conv2D)       (None, 56, 56, 256)       590080    \n",
      "                                                                 \n",
      " block3_conv3 (Conv2D)       (None, 56, 56, 256)       590080    \n",
      "                                                                 \n",
      " block3_conv4 (Conv2D)       (None, 56, 56, 256)       590080    \n",
      "                                                                 \n",
      " block3_pool (MaxPooling2D)  (None, 28, 28, 256)       0         \n",
      "                                                                 \n",
      " block4_conv1 (Conv2D)       (None, 28, 28, 512)       1180160   \n",
      "                                                                 \n",
      " block4_conv2 (Conv2D)       (None, 28, 28, 512)       2359808   \n",
      "                                                                 \n",
      " block4_conv3 (Conv2D)       (None, 28, 28, 512)       2359808   \n",
      "                                                                 \n",
      " block4_conv4 (Conv2D)       (None, 28, 28, 512)       2359808   \n",
      "                                                                 \n",
      " block4_pool (MaxPooling2D)  (None, 14, 14, 512)       0         \n",
      "                                                                 \n",
      " block5_conv1 (Conv2D)       (None, 14, 14, 512)       2359808   \n",
      "                                                                 \n",
      " block5_conv2 (Conv2D)       (None, 14, 14, 512)       2359808   \n",
      "                                                                 \n",
      " block5_conv3 (Conv2D)       (None, 14, 14, 512)       2359808   \n",
      "                                                                 \n",
      " block5_conv4 (Conv2D)       (None, 14, 14, 512)       2359808   \n",
      "                                                                 \n",
      " block5_pool (MaxPooling2D)  (None, 7, 7, 512)         0         \n",
      "                                                                 \n",
      " flatten (Flatten)           (None, 25088)             0         \n",
      "                                                                 \n",
      " dense (Dense)               (None, 2)                 50178     \n",
      "                                                                 \n",
      "=================================================================\n",
      "Total params: 20074562 (76.58 MB)\n",
      "Trainable params: 50178 (196.01 KB)\n",
      "Non-trainable params: 20024384 (76.39 MB)\n",
      "_________________________________________________________________\n"
     ]
    }
   ],
   "source": [
    "# view the structure of the model\n",
    "model.summary()"
   ]
  },
  {
   "cell_type": "code",
   "execution_count": 9,
   "id": "664ec204",
   "metadata": {},
   "outputs": [],
   "source": [
    "from tensorflow.keras.layers import MaxPooling2D"
   ]
  },
  {
   "cell_type": "code",
   "execution_count": 10,
   "id": "127b3063",
   "metadata": {},
   "outputs": [
    {
     "name": "stdout",
     "output_type": "stream",
     "text": [
      "Model: \"sequential\"\n",
      "_________________________________________________________________\n",
      " Layer (type)                Output Shape              Param #   \n",
      "=================================================================\n",
      " conv2d (Conv2D)             (None, 224, 224, 16)      208       \n",
      "                                                                 \n",
      " max_pooling2d (MaxPooling2  (None, 112, 112, 16)      0         \n",
      " D)                                                              \n",
      "                                                                 \n",
      " conv2d_1 (Conv2D)           (None, 112, 112, 32)      2080      \n",
      "                                                                 \n",
      " max_pooling2d_1 (MaxPoolin  (None, 56, 56, 32)        0         \n",
      " g2D)                                                            \n",
      "                                                                 \n",
      " conv2d_2 (Conv2D)           (None, 56, 56, 64)        8256      \n",
      "                                                                 \n",
      " max_pooling2d_2 (MaxPoolin  (None, 28, 28, 64)        0         \n",
      " g2D)                                                            \n",
      "                                                                 \n",
      " flatten_1 (Flatten)         (None, 50176)             0         \n",
      "                                                                 \n",
      " dense_1 (Dense)             (None, 500)               25088500  \n",
      "                                                                 \n",
      " dense_2 (Dense)             (None, 2)                 1002      \n",
      "                                                                 \n",
      "=================================================================\n",
      "Total params: 25100046 (95.75 MB)\n",
      "Trainable params: 25100046 (95.75 MB)\n",
      "Non-trainable params: 0 (0.00 Byte)\n",
      "_________________________________________________________________\n"
     ]
    }
   ],
   "source": [
    "### Create Model from scratch using CNN\n",
    "model=Sequential()\n",
    "model.add(Conv2D(filters=16,kernel_size=2,padding=\"same\",activation=\"relu\",input_shape=(224,224,3)))\n",
    "model.add(MaxPooling2D(pool_size=2))\n",
    "model.add(Conv2D(filters=32,kernel_size=2,padding=\"same\",activation =\"relu\"))\n",
    "model.add(MaxPooling2D(pool_size=2))\n",
    "model.add(Conv2D(filters=64,kernel_size=2,padding=\"same\",activation=\"relu\"))\n",
    "model.add(MaxPooling2D(pool_size=2))\n",
    "model.add(Flatten())\n",
    "model.add(Dense(500,activation=\"relu\"))\n",
    "model.add(Dense(2,activation=\"softmax\"))\n",
    "model.summary()"
   ]
  },
  {
   "cell_type": "code",
   "execution_count": 11,
   "id": "6f957912",
   "metadata": {},
   "outputs": [],
   "source": [
    "#cost and optimization method to use\n",
    "model.compile(\n",
    "  loss='categorical_crossentropy',\n",
    "  optimizer='adam',\n",
    "  metrics=['accuracy']\n",
    ")"
   ]
  },
  {
   "cell_type": "code",
   "execution_count": 12,
   "id": "bc5fdd22",
   "metadata": {},
   "outputs": [],
   "source": [
    "# Use the Image Data Generator to import the images from the dataset\n",
    "from tensorflow.keras.preprocessing.image import ImageDataGenerator\n",
    "\n",
    "train_datagen = ImageDataGenerator(rescale = 1./255,\n",
    "                                   shear_range = 0.2,\n",
    "                                   zoom_range = 0.2,\n",
    "                                   horizontal_flip = True)\n",
    "\n",
    "test_datagen = ImageDataGenerator(rescale = 1./255)"
   ]
  },
  {
   "cell_type": "code",
   "execution_count": 13,
   "id": "52a81656",
   "metadata": {},
   "outputs": [
    {
     "name": "stdout",
     "output_type": "stream",
     "text": [
      "Found 416 images belonging to 2 classes.\n"
     ]
    }
   ],
   "source": [
    "# Make sure you provide the same target size as initialied for the image size\n",
    "training_set = train_datagen.flow_from_directory('Train',\n",
    "                                                 target_size = (224, 224),\n",
    "                                                 batch_size = 32,\n",
    "                                                 class_mode = 'categorical')"
   ]
  },
  {
   "cell_type": "code",
   "execution_count": 14,
   "id": "baf2c695",
   "metadata": {},
   "outputs": [
    {
     "name": "stdout",
     "output_type": "stream",
     "text": [
      "Found 134 images belonging to 2 classes.\n"
     ]
    }
   ],
   "source": [
    "test_set = test_datagen.flow_from_directory('Test',\n",
    "                                            target_size = (224, 224),\n",
    "                                            batch_size = 32,\n",
    "                                            class_mode = 'categorical')"
   ]
  },
  {
   "cell_type": "code",
   "execution_count": 15,
   "id": "322c767b",
   "metadata": {},
   "outputs": [],
   "source": [
    "import scipy\n",
    "from scipy import ndimage"
   ]
  },
  {
   "cell_type": "code",
   "execution_count": 16,
   "id": "def78bb8",
   "metadata": {},
   "outputs": [
    {
     "name": "stderr",
     "output_type": "stream",
     "text": [
      "C:\\Users\\Bisma Bashir\\AppData\\Local\\Temp\\ipykernel_6072\\2033252562.py:2: UserWarning: `Model.fit_generator` is deprecated and will be removed in a future version. Please use `Model.fit`, which supports generators.\n",
      "  r = model.fit_generator(\n"
     ]
    },
    {
     "name": "stdout",
     "output_type": "stream",
     "text": [
      "Epoch 1/10\n",
      "13/13 [==============================] - 52s 3s/step - loss: 2.9634 - accuracy: 0.4856 - val_loss: 1.1745 - val_accuracy: 0.3806\n",
      "Epoch 2/10\n",
      "13/13 [==============================] - 23s 2s/step - loss: 0.7216 - accuracy: 0.5481 - val_loss: 0.7119 - val_accuracy: 0.4254\n",
      "Epoch 3/10\n",
      "13/13 [==============================] - 21s 2s/step - loss: 0.6777 - accuracy: 0.5553 - val_loss: 0.6782 - val_accuracy: 0.5075\n",
      "Epoch 4/10\n",
      "13/13 [==============================] - 21s 2s/step - loss: 0.6590 - accuracy: 0.6058 - val_loss: 0.6402 - val_accuracy: 0.6791\n",
      "Epoch 5/10\n",
      "13/13 [==============================] - 24s 2s/step - loss: 0.6698 - accuracy: 0.6082 - val_loss: 0.6529 - val_accuracy: 0.6269\n",
      "Epoch 6/10\n",
      "13/13 [==============================] - 28s 2s/step - loss: 0.6590 - accuracy: 0.5986 - val_loss: 0.6341 - val_accuracy: 0.6791\n",
      "Epoch 7/10\n",
      "13/13 [==============================] - 22s 2s/step - loss: 0.5925 - accuracy: 0.6635 - val_loss: 0.9216 - val_accuracy: 0.4701\n",
      "Epoch 8/10\n",
      "13/13 [==============================] - 18s 1s/step - loss: 0.4276 - accuracy: 0.7812 - val_loss: 1.0603 - val_accuracy: 0.4403\n",
      "Epoch 9/10\n",
      "13/13 [==============================] - 18s 1s/step - loss: 0.3756 - accuracy: 0.8438 - val_loss: 0.6118 - val_accuracy: 0.6418\n",
      "Epoch 10/10\n",
      "13/13 [==============================] - 19s 1s/step - loss: 0.3059 - accuracy: 0.8822 - val_loss: 0.5945 - val_accuracy: 0.6791\n"
     ]
    }
   ],
   "source": [
    "# fit the model\n",
    "r = model.fit_generator(\n",
    "  training_set,\n",
    "  validation_data=test_set,\n",
    "  epochs=10,\n",
    "  steps_per_epoch=len(training_set),\n",
    "  validation_steps=len(test_set)\n",
    ")"
   ]
  },
  {
   "cell_type": "code",
   "execution_count": 17,
   "id": "15726933",
   "metadata": {},
   "outputs": [
    {
     "data": {
      "image/png": "[encoded data removed]",
      "text/plain": [
       "<Figure size 640x480 with 1 Axes>"
      ]
     },
     "metadata": {},
     "output_type": "display_data"
    },
    {
     "data": {
      "image/png": "[encoded data removed]",
      "text/plain": [
       "<Figure size 640x480 with 1 Axes>"
      ]
     },
     "metadata": {},
     "output_type": "display_data"
    },
    {
     "data": {
      "text/plain": [
       "<Figure size 640x480 with 0 Axes>"
      ]
     },
     "metadata": {},
     "output_type": "display_data"
    }
   ],
   "source": [
    "# plot the loss\n",
    "plt.plot(r.history['loss'], label='train loss')\n",
    "plt.plot(r.history['val_loss'], label='val loss')\n",
    "plt.legend()\n",
    "plt.show()\n",
    "plt.savefig('LossVal_loss')\n",
    "\n",
    "# plot the accuracy\n",
    "plt.plot(r.history['accuracy'], label='train acc')\n",
    "plt.plot(r.history['val_accuracy'], label='val acc')\n",
    "plt.legend()\n",
    "plt.show()\n",
    "plt.savefig('AccVal_acc')"
   ]
  },
  {
   "cell_type": "code",
   "execution_count": 18,
   "id": "3d1b80de",
   "metadata": {},
   "outputs": [
    {
     "name": "stderr",
     "output_type": "stream",
     "text": [
      "d:\\ANACONDA FILES\\PROJECTS\\Malaria detection\\venv\\lib\\site-packages\\keras\\src\\engine\\training.py:3000: UserWarning: You are saving your model as an HDF5 file via `model.save()`. This file format is considered legacy. We recommend using instead the native Keras format, e.g. `model.save('my_model.keras')`.\n",
      "  saving_api.save_model(\n"
     ]
    }
   ],
   "source": [
    "# save it as a M5 file\n",
    "from tensorflow.keras.models import load_model\n",
    "\n",
    "model.save('model_vgg19.h5')"
   ]
  },
  {
   "cell_type": "code",
   "execution_count": 19,
   "id": "ae05a78e",
   "metadata": {},
   "outputs": [
    {
     "name": "stdout",
     "output_type": "stream",
     "text": [
      "5/5 [==============================] - 1s 181ms/step\n"
     ]
    }
   ],
   "source": [
    "y_pred=model.predict(test_set)"
   ]
  },
  {
   "cell_type": "code",
   "execution_count": 20,
   "id": "a55d0464",
   "metadata": {},
   "outputs": [
    {
     "data": {
      "text/plain": [
       "array([[0.36527807, 0.63472193],\n",
       "       [0.16410024, 0.8358998 ],\n",
       "       [0.38426256, 0.6157375 ],\n",
       "       [0.26333803, 0.7366619 ],\n",
       "       [0.9696311 , 0.0303689 ],\n",
       "       [0.5349425 , 0.4650575 ],\n",
       "       [0.20460437, 0.7953956 ],\n",
       "       [0.5169534 , 0.48304662],\n",
       "       [0.8153482 , 0.18465179],\n",
       "       [0.6246923 , 0.37530777],\n",
       "       [0.6398368 , 0.3601632 ],\n",
       "       [0.9380201 , 0.06197992],\n",
       "       [0.1948643 , 0.80513567],\n",
       "       [0.8264232 , 0.17357677],\n",
       "       [0.26836392, 0.7316361 ],\n",
       "       [0.23026977, 0.76973027],\n",
       "       [0.17008634, 0.8299137 ],\n",
       "       [0.7090178 , 0.29098222],\n",
       "       [0.7298471 , 0.27015293],\n",
       "       [0.71914405, 0.280856  ],\n",
       "       [0.6590776 , 0.3409224 ],\n",
       "       [0.20104858, 0.79895145],\n",
       "       [0.1711086 , 0.8288914 ],\n",
       "       [0.19110309, 0.8088969 ],\n",
       "       [0.83127624, 0.16872375],\n",
       "       [0.1836434 , 0.8163566 ],\n",
       "       [0.4321851 , 0.56781495],\n",
       "       [0.36676577, 0.6332342 ],\n",
       "       [0.47809345, 0.5219066 ],\n",
       "       [0.65036666, 0.34963334],\n",
       "       [0.70429283, 0.29570714],\n",
       "       [0.1086482 , 0.8913518 ],\n",
       "       [0.1682307 , 0.8317693 ],\n",
       "       [0.26721412, 0.73278594],\n",
       "       [0.12601843, 0.8739816 ],\n",
       "       [0.41672975, 0.58327025],\n",
       "       [0.98813313, 0.01186682],\n",
       "       [0.32949525, 0.67050475],\n",
       "       [0.743171  , 0.256829  ],\n",
       "       [0.92652   , 0.07348007],\n",
       "       [0.5424196 , 0.45758042],\n",
       "       [0.11991394, 0.88008606],\n",
       "       [0.8747192 , 0.12528078],\n",
       "       [0.14919434, 0.8508057 ],\n",
       "       [0.95692396, 0.04307608],\n",
       "       [0.42846578, 0.5715342 ],\n",
       "       [0.2379414 , 0.76205856],\n",
       "       [0.58274734, 0.41725275],\n",
       "       [0.9708828 , 0.02911721],\n",
       "       [0.95441604, 0.04558397],\n",
       "       [0.66994137, 0.3300586 ],\n",
       "       [0.26991528, 0.7300847 ],\n",
       "       [0.9974801 , 0.00251988],\n",
       "       [0.71905166, 0.2809483 ],\n",
       "       [0.15444687, 0.8455531 ],\n",
       "       [0.279381  , 0.72061896],\n",
       "       [0.17326601, 0.826734  ],\n",
       "       [0.57856077, 0.4214392 ],\n",
       "       [0.4972964 , 0.5027036 ],\n",
       "       [0.20860574, 0.79139423],\n",
       "       [0.62869835, 0.37130162],\n",
       "       [0.07675564, 0.9232443 ],\n",
       "       [0.37638733, 0.62361264],\n",
       "       [0.71523404, 0.284766  ],\n",
       "       [0.97042096, 0.02957905],\n",
       "       [0.25034615, 0.7496538 ],\n",
       "       [0.934299  , 0.06570105],\n",
       "       [0.2657755 , 0.7342245 ],\n",
       "       [0.11684719, 0.8831528 ],\n",
       "       [0.2263837 , 0.7736163 ],\n",
       "       [0.19537854, 0.8046214 ],\n",
       "       [0.2613493 , 0.73865074],\n",
       "       [0.9908394 , 0.0091606 ],\n",
       "       [0.20875901, 0.791241  ],\n",
       "       [0.4338635 , 0.56613654],\n",
       "       [0.22615165, 0.7738484 ],\n",
       "       [0.1758492 , 0.8241508 ],\n",
       "       [0.82043725, 0.17956275],\n",
       "       [0.609775  , 0.39022496],\n",
       "       [0.25534642, 0.7446536 ],\n",
       "       [0.8783262 , 0.12167381],\n",
       "       [0.8350272 , 0.16497277],\n",
       "       [0.9835031 , 0.01649686],\n",
       "       [0.9643701 , 0.03562994],\n",
       "       [0.96827936, 0.03172062],\n",
       "       [0.24588983, 0.75411016],\n",
       "       [0.11860549, 0.8813945 ],\n",
       "       [0.1248942 , 0.87510574],\n",
       "       [0.9568527 , 0.04314731],\n",
       "       [0.5171551 , 0.48284486],\n",
       "       [0.13807607, 0.8619239 ],\n",
       "       [0.4665543 , 0.53344566],\n",
       "       [0.17478348, 0.82521653],\n",
       "       [0.1616287 , 0.8383713 ],\n",
       "       [0.84827626, 0.15172374],\n",
       "       [0.9589988 , 0.04100116],\n",
       "       [0.19404177, 0.8059582 ],\n",
       "       [0.95101666, 0.04898328],\n",
       "       [0.19386686, 0.8061331 ],\n",
       "       [0.33741373, 0.6625863 ],\n",
       "       [0.45685008, 0.5431499 ],\n",
       "       [0.15293506, 0.847065  ],\n",
       "       [0.12718636, 0.8728137 ],\n",
       "       [0.5021555 , 0.49784452],\n",
       "       [0.93089813, 0.06910186],\n",
       "       [0.6778517 , 0.3221483 ],\n",
       "       [0.31978106, 0.68021894],\n",
       "       [0.15075055, 0.8492495 ],\n",
       "       [0.18044564, 0.8195544 ],\n",
       "       [0.46392167, 0.5360784 ],\n",
       "       [0.20929408, 0.7907059 ],\n",
       "       [0.5638283 , 0.43617168],\n",
       "       [0.26713836, 0.7328616 ],\n",
       "       [0.96734613, 0.03265386],\n",
       "       [0.22003332, 0.7799667 ],\n",
       "       [0.62630343, 0.3736966 ],\n",
       "       [0.38794497, 0.612055  ],\n",
       "       [0.31829342, 0.68170655],\n",
       "       [0.20829137, 0.7917087 ],\n",
       "       [0.23269378, 0.7673062 ],\n",
       "       [0.6024062 , 0.39759374],\n",
       "       [0.2612339 , 0.73876613],\n",
       "       [0.9984334 , 0.00156654],\n",
       "       [0.79017067, 0.20982932],\n",
       "       [0.2550759 , 0.74492407],\n",
       "       [0.4112668 , 0.58873326],\n",
       "       [0.4352165 , 0.5647835 ],\n",
       "       [0.81357086, 0.1864291 ],\n",
       "       [0.97241396, 0.02758601],\n",
       "       [0.19408888, 0.8059111 ],\n",
       "       [0.21685591, 0.7831441 ],\n",
       "       [0.7925449 , 0.20745513],\n",
       "       [0.95255923, 0.04744073],\n",
       "       [0.21515597, 0.78484404]], dtype=float32)"
      ]
     },
     "execution_count": 20,
     "metadata": {},
     "output_type": "execute_result"
    }
   ],
   "source": [
    "y_pred"
   ]
  },
  {
   "cell_type": "code",
   "execution_count": 21,
   "id": "2ab9883f",
   "metadata": {},
   "outputs": [],
   "source": [
    "## getting the index of higher values from y_pred to check from which class it belongs to.ie;(0:infected,1:not infected)\n",
    "import numpy as np\n",
    "y_pred = np.argmax(y_pred, axis=1)"
   ]
  },
  {
   "cell_type": "code",
   "execution_count": 22,
   "id": "e5cea099",
   "metadata": {},
   "outputs": [
    {
     "data": {
      "text/plain": [
       "array([1, 1, 1, 1, 0, 0, 1, 0, 0, 0, 0, 0, 1, 0, 1, 1, 1, 0, 0, 0, 0, 1,\n",
       "       1, 1, 0, 1, 1, 1, 1, 0, 0, 1, 1, 1, 1, 1, 0, 1, 0, 0, 0, 1, 0, 1,\n",
       "       0, 1, 1, 0, 0, 0, 0, 1, 0, 0, 1, 1, 1, 0, 1, 1, 0, 1, 1, 0, 0, 1,\n",
       "       0, 1, 1, 1, 1, 1, 0, 1, 1, 1, 1, 0, 0, 1, 0, 0, 0, 0, 0, 1, 1, 1,\n",
       "       0, 0, 1, 1, 1, 1, 0, 0, 1, 0, 1, 1, 1, 1, 1, 0, 0, 0, 1, 1, 1, 1,\n",
       "       1, 0, 1, 0, 1, 0, 1, 1, 1, 1, 0, 1, 0, 0, 1, 1, 1, 0, 0, 1, 1, 0,\n",
       "       0, 1], dtype=int64)"
      ]
     },
     "execution_count": 22,
     "metadata": {},
     "output_type": "execute_result"
    }
   ],
   "source": [
    "y_pred"
   ]
  },
  {
   "cell_type": "markdown",
   "id": "63d89bcb",
   "metadata": {},
   "source": [
    "## Reading the image and doing the predictions from the model"
   ]
  },
  {
   "cell_type": "code",
   "execution_count": 23,
   "id": "5eac9cae",
   "metadata": {},
   "outputs": [],
   "source": [
    "from tensorflow.keras.models import load_model\n",
    "from tensorflow.keras.preprocessing import image"
   ]
  },
  {
   "cell_type": "code",
   "execution_count": 24,
   "id": "270f85a4",
   "metadata": {},
   "outputs": [],
   "source": [
    "model=load_model('model_vgg19.h5')"
   ]
  },
  {
   "cell_type": "code",
   "execution_count": 25,
   "id": "64630059",
   "metadata": {},
   "outputs": [],
   "source": [
    "img=image.load_img('Test/Uninfected/10.png',target_size=(224,224))"
   ]
  },
  {
   "cell_type": "code",
   "execution_count": 26,
   "id": "f44cb276",
   "metadata": {},
   "outputs": [],
   "source": [
    "img=image.load_img('Train/parasite/30.png',target_size=(224,224))"
   ]
  },
  {
   "cell_type": "code",
   "execution_count": 27,
   "id": "ac5a9acd",
   "metadata": {},
   "outputs": [
    {
     "data": {
      "text/plain": [
       "array([[[0., 0., 0.],\n",
       "        [0., 0., 0.],\n",
       "        [0., 0., 0.],\n",
       "        ...,\n",
       "        [0., 0., 0.],\n",
       "        [0., 0., 0.],\n",
       "        [0., 0., 0.]],\n",
       "\n",
       "       [[0., 0., 0.],\n",
       "        [0., 0., 0.],\n",
       "        [0., 0., 0.],\n",
       "        ...,\n",
       "        [0., 0., 0.],\n",
       "        [0., 0., 0.],\n",
       "        [0., 0., 0.]],\n",
       "\n",
       "       [[0., 0., 0.],\n",
       "        [0., 0., 0.],\n",
       "        [0., 0., 0.],\n",
       "        ...,\n",
       "        [0., 0., 0.],\n",
       "        [0., 0., 0.],\n",
       "        [0., 0., 0.]],\n",
       "\n",
       "       ...,\n",
       "\n",
       "       [[0., 0., 0.],\n",
       "        [0., 0., 0.],\n",
       "        [0., 0., 0.],\n",
       "        ...,\n",
       "        [0., 0., 0.],\n",
       "        [0., 0., 0.],\n",
       "        [0., 0., 0.]],\n",
       "\n",
       "       [[0., 0., 0.],\n",
       "        [0., 0., 0.],\n",
       "        [0., 0., 0.],\n",
       "        ...,\n",
       "        [0., 0., 0.],\n",
       "        [0., 0., 0.],\n",
       "        [0., 0., 0.]],\n",
       "\n",
       "       [[0., 0., 0.],\n",
       "        [0., 0., 0.],\n",
       "        [0., 0., 0.],\n",
       "        ...,\n",
       "        [0., 0., 0.],\n",
       "        [0., 0., 0.],\n",
       "        [0., 0., 0.]]], dtype=float32)"
      ]
     },
     "execution_count": 27,
     "metadata": {},
     "output_type": "execute_result"
    }
   ],
   "source": [
    "## convert the image into array\n",
    "x=image.img_to_array(img)\n",
    "x"
   ]
  },
  {
   "cell_type": "code",
   "execution_count": 28,
   "id": "cb203186",
   "metadata": {},
   "outputs": [
    {
     "data": {
      "text/plain": [
       "(224, 224, 3)"
      ]
     },
     "execution_count": 28,
     "metadata": {},
     "output_type": "execute_result"
    }
   ],
   "source": [
    "x.shape"
   ]
  },
  {
   "cell_type": "code",
   "execution_count": 29,
   "id": "1b88f2d3",
   "metadata": {},
   "outputs": [],
   "source": [
    "## rescaling the data\n",
    "x=x/255"
   ]
  },
  {
   "cell_type": "code",
   "execution_count": 30,
   "id": "d553d392",
   "metadata": {},
   "outputs": [
    {
     "data": {
      "text/plain": [
       "(1, 224, 224, 3)"
      ]
     },
     "execution_count": 30,
     "metadata": {},
     "output_type": "execute_result"
    }
   ],
   "source": [
    "## expanding the dimensions\n",
    "x=np.expand_dims(x,axis=0)\n",
    "img_data=preprocess_input(x)\n",
    "img_data.shape"
   ]
  },
  {
   "cell_type": "code",
   "execution_count": 31,
   "id": "93ccd3b4",
   "metadata": {},
   "outputs": [
    {
     "name": "stdout",
     "output_type": "stream",
     "text": [
      "1/1 [==============================] - 0s 411ms/step\n"
     ]
    },
    {
     "data": {
      "text/plain": [
       "array([[1., 0.]], dtype=float32)"
      ]
     },
     "execution_count": 31,
     "metadata": {},
     "output_type": "execute_result"
    }
   ],
   "source": [
    "model.predict(img_data)"
   ]
  },
  {
   "cell_type": "code",
   "execution_count": 32,
   "id": "670130e0",
   "metadata": {},
   "outputs": [
    {
     "name": "stdout",
     "output_type": "stream",
     "text": [
      "1/1 [==============================] - 0s 30ms/step\n"
     ]
    }
   ],
   "source": [
    "a=np.argmax(model.predict(img_data), axis=1)"
   ]
  },
  {
   "cell_type": "code",
   "execution_count": 33,
   "id": "0fd68460",
   "metadata": {},
   "outputs": [
    {
     "name": "stdout",
     "output_type": "stream",
     "text": [
      "Infected\n"
     ]
    }
   ],
   "source": [
    "if(a==1):\n",
    "    print(\"Uninfected\")\n",
    "else:\n",
    "    print(\"Infected\")"
   ]
  }
 ],
 "metadata": {
  "kernelspec": {
   "display_name": "Python 3 (ipykernel)",
   "language": "python",
   "name": "python3"
  },
  "language_info": {
   "codemirror_mode": {
    "name": "ipython",
    "version": 3
   },
   "file_extension": ".py",
   "mimetype": "text/x-python",
   "name": "python",
   "nbconvert_exporter": "python",
   "pygments_lexer": "ipython3",
   "version": "3.8.0"
  }
 },
 "nbformat": 4,
 "nbformat_minor": 5
}
